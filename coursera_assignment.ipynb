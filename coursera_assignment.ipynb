{
  "nbformat": 4,
  "nbformat_minor": 0,
  "metadata": {
    "colab": {
      "provenance": []
    },
    "kernelspec": {
      "name": "python3",
      "display_name": "Python 3"
    },
    "language_info": {
      "name": "python"
    }
  },
  "cells": [
    {
      "cell_type": "code",
      "execution_count": null,
      "metadata": {
        "colab": {
          "base_uri": "https://localhost:8080/"
        },
        "id": "yX8fsIWatcvL",
        "outputId": "be775998-57f7-4c48-96bb-d30ee87deb0f"
      },
      "outputs": [
        {
          "output_type": "stream",
          "name": "stdout",
          "text": [
            "Requirement already satisfied: ipython-sql in /usr/local/lib/python3.10/dist-packages (0.4.1)\n",
            "Requirement already satisfied: prettytable<1 in /usr/local/lib/python3.10/dist-packages (from ipython-sql) (0.7.2)\n",
            "Requirement already satisfied: ipython>=1.0 in /usr/local/lib/python3.10/dist-packages (from ipython-sql) (7.34.0)\n",
            "Requirement already satisfied: sqlalchemy>=0.6.7 in /usr/local/lib/python3.10/dist-packages (from ipython-sql) (2.0.16)\n",
            "Requirement already satisfied: sqlparse in /usr/local/lib/python3.10/dist-packages (from ipython-sql) (0.4.4)\n",
            "Requirement already satisfied: six in /usr/local/lib/python3.10/dist-packages (from ipython-sql) (1.16.0)\n",
            "Requirement already satisfied: ipython-genutils>=0.1.0 in /usr/local/lib/python3.10/dist-packages (from ipython-sql) (0.2.0)\n",
            "Requirement already satisfied: setuptools>=18.5 in /usr/local/lib/python3.10/dist-packages (from ipython>=1.0->ipython-sql) (67.7.2)\n",
            "Collecting jedi>=0.16 (from ipython>=1.0->ipython-sql)\n",
            "  Downloading jedi-0.18.2-py2.py3-none-any.whl (1.6 MB)\n",
            "\u001b[2K     \u001b[90m━━━━━━━━━━━━━━━━━━━━━━━━━━━━━━━━━━━━━━━━\u001b[0m \u001b[32m1.6/1.6 MB\u001b[0m \u001b[31m20.9 MB/s\u001b[0m eta \u001b[36m0:00:00\u001b[0m\n",
            "\u001b[?25hRequirement already satisfied: decorator in /usr/local/lib/python3.10/dist-packages (from ipython>=1.0->ipython-sql) (4.4.2)\n",
            "Requirement already satisfied: pickleshare in /usr/local/lib/python3.10/dist-packages (from ipython>=1.0->ipython-sql) (0.7.5)\n",
            "Requirement already satisfied: traitlets>=4.2 in /usr/local/lib/python3.10/dist-packages (from ipython>=1.0->ipython-sql) (5.7.1)\n",
            "Requirement already satisfied: prompt-toolkit!=3.0.0,!=3.0.1,<3.1.0,>=2.0.0 in /usr/local/lib/python3.10/dist-packages (from ipython>=1.0->ipython-sql) (3.0.38)\n",
            "Requirement already satisfied: pygments in /usr/local/lib/python3.10/dist-packages (from ipython>=1.0->ipython-sql) (2.14.0)\n",
            "Requirement already satisfied: backcall in /usr/local/lib/python3.10/dist-packages (from ipython>=1.0->ipython-sql) (0.2.0)\n",
            "Requirement already satisfied: matplotlib-inline in /usr/local/lib/python3.10/dist-packages (from ipython>=1.0->ipython-sql) (0.1.6)\n",
            "Requirement already satisfied: pexpect>4.3 in /usr/local/lib/python3.10/dist-packages (from ipython>=1.0->ipython-sql) (4.8.0)\n",
            "Requirement already satisfied: typing-extensions>=4.2.0 in /usr/local/lib/python3.10/dist-packages (from sqlalchemy>=0.6.7->ipython-sql) (4.6.3)\n",
            "Requirement already satisfied: greenlet!=0.4.17 in /usr/local/lib/python3.10/dist-packages (from sqlalchemy>=0.6.7->ipython-sql) (2.0.2)\n",
            "Requirement already satisfied: parso<0.9.0,>=0.8.0 in /usr/local/lib/python3.10/dist-packages (from jedi>=0.16->ipython>=1.0->ipython-sql) (0.8.3)\n",
            "Requirement already satisfied: ptyprocess>=0.5 in /usr/local/lib/python3.10/dist-packages (from pexpect>4.3->ipython>=1.0->ipython-sql) (0.7.0)\n",
            "Requirement already satisfied: wcwidth in /usr/local/lib/python3.10/dist-packages (from prompt-toolkit!=3.0.0,!=3.0.1,<3.1.0,>=2.0.0->ipython>=1.0->ipython-sql) (0.2.6)\n",
            "Installing collected packages: jedi\n",
            "Successfully installed jedi-0.18.2\n",
            "Collecting sqlalchemy==1.3.9\n",
            "  Downloading SQLAlchemy-1.3.9.tar.gz (6.0 MB)\n",
            "\u001b[2K     \u001b[90m━━━━━━━━━━━━━━━━━━━━━━━━━━━━━━━━━━━━━━━━\u001b[0m \u001b[32m6.0/6.0 MB\u001b[0m \u001b[31m55.0 MB/s\u001b[0m eta \u001b[36m0:00:00\u001b[0m\n",
            "\u001b[?25h  Preparing metadata (setup.py) ... \u001b[?25l\u001b[?25hdone\n",
            "Building wheels for collected packages: sqlalchemy\n",
            "  Building wheel for sqlalchemy (setup.py) ... \u001b[?25l\u001b[?25hdone\n",
            "  Created wheel for sqlalchemy: filename=SQLAlchemy-1.3.9-cp310-cp310-linux_x86_64.whl size=1207943 sha256=1b1371d7cc09d617a2022b74b1ca309ffac30636b45ee6f5ec4504f5691f4e13\n",
            "  Stored in directory: /root/.cache/pip/wheels/8b/6d/9c/e1793e5a2d85b89b8c362a4f0e3def54b786bcd14923b9ff00\n",
            "Successfully built sqlalchemy\n",
            "Installing collected packages: sqlalchemy\n",
            "  Attempting uninstall: sqlalchemy\n",
            "    Found existing installation: SQLAlchemy 2.0.16\n",
            "    Uninstalling SQLAlchemy-2.0.16:\n",
            "      Successfully uninstalled SQLAlchemy-2.0.16\n",
            "Successfully installed sqlalchemy-1.3.9\n"
          ]
        }
      ],
      "source": [
        "!pip install ipython-sql\n",
        "!pip install sqlalchemy==1.3.9\n",
        "import sqlalchemy\n",
        "%load_ext sql"
      ]
    },
    {
      "cell_type": "code",
      "source": [
        "%%capture\n",
        "%load_ext sql\n",
        "%reload_ext sql\n",
        "%sql sqlite:///coursera_crime_data.db"
      ],
      "metadata": {
        "id": "Zv4SwIZduReP"
      },
      "execution_count": null,
      "outputs": []
    },
    {
      "cell_type": "code",
      "source": [
        "# Problem 1: Find the total number of crimes recorded in the CRIME table.\n",
        "%%sql\n",
        "SELECT COUNT(*) AS TOTAL_CRIMES FROM ChicagoCrimeData"
      ],
      "metadata": {
        "colab": {
          "base_uri": "https://localhost:8080/",
          "height": 96
        },
        "id": "l6vCCd_YuqEg",
        "outputId": "7ef350cc-2cd0-4d03-fd96-f6d387673dbc"
      },
      "execution_count": null,
      "outputs": [
        {
          "output_type": "stream",
          "name": "stdout",
          "text": [
            " * sqlite:///coursera_crime_data.db\n",
            "Done.\n"
          ]
        },
        {
          "output_type": "execute_result",
          "data": {
            "text/plain": [
              "[(533,)]"
            ],
            "text/html": [
              "<table>\n",
              "    <tr>\n",
              "        <th>TOTAL_CRIMES</th>\n",
              "    </tr>\n",
              "    <tr>\n",
              "        <td>533</td>\n",
              "    </tr>\n",
              "</table>"
            ]
          },
          "metadata": {},
          "execution_count": 4
        }
      ]
    },
    {
      "cell_type": "code",
      "source": [
        "# Problem 2: List community areas with per capita income less than 11000.\n",
        "%%sql\n",
        "SELECT COMMUNITY_AREA_NAME FROM ChicagoCensusData WHERE PER_CAPITA_INCOME<11000"
      ],
      "metadata": {
        "colab": {
          "base_uri": "https://localhost:8080/",
          "height": 161
        },
        "id": "4JdGmmaSvLrw",
        "outputId": "f35f23fe-68d4-4542-a4a7-831451165a9e"
      },
      "execution_count": null,
      "outputs": [
        {
          "output_type": "stream",
          "name": "stdout",
          "text": [
            " * sqlite:///coursera_crime_data.db\n",
            "Done.\n"
          ]
        },
        {
          "output_type": "execute_result",
          "data": {
            "text/plain": [
              "[('West Garfield Park',),\n",
              " ('South Lawndale',),\n",
              " ('Fuller Park',),\n",
              " ('Riverdale',)]"
            ],
            "text/html": [
              "<table>\n",
              "    <tr>\n",
              "        <th>COMMUNITY_AREA_NAME</th>\n",
              "    </tr>\n",
              "    <tr>\n",
              "        <td>West Garfield Park</td>\n",
              "    </tr>\n",
              "    <tr>\n",
              "        <td>South Lawndale</td>\n",
              "    </tr>\n",
              "    <tr>\n",
              "        <td>Fuller Park</td>\n",
              "    </tr>\n",
              "    <tr>\n",
              "        <td>Riverdale</td>\n",
              "    </tr>\n",
              "</table>"
            ]
          },
          "metadata": {},
          "execution_count": 8
        }
      ]
    },
    {
      "cell_type": "code",
      "source": [
        "# Problem 3: List all case numbers for crimes involving minors?\n",
        "%%sql\n",
        "SELECT CASE_NUMBER FROM ChicagoCrimeData\n",
        "WHERE PRIMARY_TYPE LIKE '%MINOR%'\n",
        "OR DESCRIPTION LIKE '%MINOR%'"
      ],
      "metadata": {
        "colab": {
          "base_uri": "https://localhost:8080/",
          "height": 118
        },
        "id": "XuO7NW5HzNx5",
        "outputId": "8b4baa54-8a1a-4310-a490-7924d1af255f"
      },
      "execution_count": null,
      "outputs": [
        {
          "output_type": "stream",
          "name": "stdout",
          "text": [
            " * sqlite:///coursera_crime_data.db\n",
            "Done.\n"
          ]
        },
        {
          "output_type": "execute_result",
          "data": {
            "text/plain": [
              "[('HL266884',), ('HK238408',)]"
            ],
            "text/html": [
              "<table>\n",
              "    <tr>\n",
              "        <th>CASE_NUMBER</th>\n",
              "    </tr>\n",
              "    <tr>\n",
              "        <td>HL266884</td>\n",
              "    </tr>\n",
              "    <tr>\n",
              "        <td>HK238408</td>\n",
              "    </tr>\n",
              "</table>"
            ]
          },
          "metadata": {},
          "execution_count": 9
        }
      ]
    },
    {
      "cell_type": "code",
      "source": [
        "# Problem 4: List all kidnapping crimes involving a child?(children are not considered minors for the purposes of crime analysis)\n",
        "%%sql\n",
        "SELECT CASE_NUMBER FROM ChicagoCrimeData WHERE PRIMARY_TYPE = \"KIDNAPPING\" AND DESCRIPTION LIKE '%CHILD%'"
      ],
      "metadata": {
        "colab": {
          "base_uri": "https://localhost:8080/",
          "height": 96
        },
        "id": "hcfgMaii02WQ",
        "outputId": "2e0a8a67-ec32-479b-8756-83ec731c17e3"
      },
      "execution_count": null,
      "outputs": [
        {
          "output_type": "stream",
          "name": "stdout",
          "text": [
            " * sqlite:///coursera_crime_data.db\n",
            "Done.\n"
          ]
        },
        {
          "output_type": "execute_result",
          "data": {
            "text/plain": [
              "[('HN144152',)]"
            ],
            "text/html": [
              "<table>\n",
              "    <tr>\n",
              "        <th>CASE_NUMBER</th>\n",
              "    </tr>\n",
              "    <tr>\n",
              "        <td>HN144152</td>\n",
              "    </tr>\n",
              "</table>"
            ]
          },
          "metadata": {},
          "execution_count": 10
        }
      ]
    },
    {
      "cell_type": "code",
      "source": [
        "# Problem 5: What kind of crimes were recorded at schools?\n",
        "%%sql\n",
        "SELECT DISTINCT(PRIMARY_TYPE) FROM ChicagoCrimeData WHERE LOCATION_DESCRIPTION LIKE '%SCHOOL%'"
      ],
      "metadata": {
        "colab": {
          "base_uri": "https://localhost:8080/",
          "height": 203
        },
        "id": "kpvePCQJ-Cw9",
        "outputId": "ff1a3328-f686-4cb3-f18e-e6e73cf14485"
      },
      "execution_count": null,
      "outputs": [
        {
          "output_type": "stream",
          "name": "stdout",
          "text": [
            " * sqlite:///coursera_crime_data.db\n",
            "Done.\n"
          ]
        },
        {
          "output_type": "execute_result",
          "data": {
            "text/plain": [
              "[('BATTERY',),\n",
              " ('CRIMINAL DAMAGE',),\n",
              " ('NARCOTICS',),\n",
              " ('ASSAULT',),\n",
              " ('CRIMINAL TRESPASS',),\n",
              " ('PUBLIC PEACE VIOLATION',)]"
            ],
            "text/html": [
              "<table>\n",
              "    <tr>\n",
              "        <th>PRIMARY_TYPE</th>\n",
              "    </tr>\n",
              "    <tr>\n",
              "        <td>BATTERY</td>\n",
              "    </tr>\n",
              "    <tr>\n",
              "        <td>CRIMINAL DAMAGE</td>\n",
              "    </tr>\n",
              "    <tr>\n",
              "        <td>NARCOTICS</td>\n",
              "    </tr>\n",
              "    <tr>\n",
              "        <td>ASSAULT</td>\n",
              "    </tr>\n",
              "    <tr>\n",
              "        <td>CRIMINAL TRESPASS</td>\n",
              "    </tr>\n",
              "    <tr>\n",
              "        <td>PUBLIC PEACE VIOLATION</td>\n",
              "    </tr>\n",
              "</table>"
            ]
          },
          "metadata": {},
          "execution_count": 11
        }
      ]
    },
    {
      "cell_type": "code",
      "source": [
        "# Problem 6: List the average safety score for all types of schools.\n",
        "%%sql\n",
        "SELECT ElementaryMiddleorHighSchool AS ES_MS_HS, ROUND(AVG(SAFETY_SCORE),2) AS Avg_Safety_Score\n",
        "FROM ChicagoPublicSchools GROUP BY ElementaryMiddleorHighSchool"
      ],
      "metadata": {
        "colab": {
          "base_uri": "https://localhost:8080/",
          "height": 139
        },
        "id": "8qkKrDjI_Yph",
        "outputId": "5062282a-86e2-43b9-8c7e-b48ce3aef6f3"
      },
      "execution_count": null,
      "outputs": [
        {
          "output_type": "stream",
          "name": "stdout",
          "text": [
            " * sqlite:///coursera_crime_data.db\n",
            "Done.\n"
          ]
        },
        {
          "output_type": "execute_result",
          "data": {
            "text/plain": [
              "[('ES', 49.52), ('HS', 49.62), ('MS', 48.0)]"
            ],
            "text/html": [
              "<table>\n",
              "    <tr>\n",
              "        <th>ES_MS_HS</th>\n",
              "        <th>Avg_Safety_Score</th>\n",
              "    </tr>\n",
              "    <tr>\n",
              "        <td>ES</td>\n",
              "        <td>49.52</td>\n",
              "    </tr>\n",
              "    <tr>\n",
              "        <td>HS</td>\n",
              "        <td>49.62</td>\n",
              "    </tr>\n",
              "    <tr>\n",
              "        <td>MS</td>\n",
              "        <td>48.0</td>\n",
              "    </tr>\n",
              "</table>"
            ]
          },
          "metadata": {},
          "execution_count": 12
        }
      ]
    },
    {
      "cell_type": "code",
      "source": [
        "# Problem 7: List 5 community areas with highest % of households below poverty line.\n",
        "%%sql\n",
        "SELECT COMMUNITY_AREA_NAME FROM ChicagoCensusData ORDER BY PERCENT_HOUSEHOLDS_BELOW_POVERTY DESC LIMIT 5"
      ],
      "metadata": {
        "colab": {
          "base_uri": "https://localhost:8080/",
          "height": 182
        },
        "id": "OjV_azP__lSt",
        "outputId": "516d273c-9908-4480-a52c-e3db2f0f79ab"
      },
      "execution_count": null,
      "outputs": [
        {
          "output_type": "stream",
          "name": "stdout",
          "text": [
            " * sqlite:///coursera_crime_data.db\n",
            "Done.\n"
          ]
        },
        {
          "output_type": "execute_result",
          "data": {
            "text/plain": [
              "[('Riverdale',),\n",
              " ('Fuller Park',),\n",
              " ('Englewood',),\n",
              " ('North Lawndale',),\n",
              " ('East Garfield Park',)]"
            ],
            "text/html": [
              "<table>\n",
              "    <tr>\n",
              "        <th>COMMUNITY_AREA_NAME</th>\n",
              "    </tr>\n",
              "    <tr>\n",
              "        <td>Riverdale</td>\n",
              "    </tr>\n",
              "    <tr>\n",
              "        <td>Fuller Park</td>\n",
              "    </tr>\n",
              "    <tr>\n",
              "        <td>Englewood</td>\n",
              "    </tr>\n",
              "    <tr>\n",
              "        <td>North Lawndale</td>\n",
              "    </tr>\n",
              "    <tr>\n",
              "        <td>East Garfield Park</td>\n",
              "    </tr>\n",
              "</table>"
            ]
          },
          "metadata": {},
          "execution_count": 16
        }
      ]
    },
    {
      "cell_type": "code",
      "source": [
        "# Problem 8: Which community area(number) is most crime prone?\n",
        "%%sql\n",
        "SELECT COMMUNITY_AREA_NUMBER FROM ChicagoCrimeData\n",
        "GROUP BY COMMUNITY_AREA_NUMBER ORDER BY COUNT(COMMUNITY_AREA_NUMBER)\n",
        "DESC LIMIT 1"
      ],
      "metadata": {
        "colab": {
          "base_uri": "https://localhost:8080/",
          "height": 96
        },
        "id": "TTzy9ctz_t6R",
        "outputId": "c4b43d85-7822-4fbb-a1e7-2c3eab3eddb0"
      },
      "execution_count": null,
      "outputs": [
        {
          "output_type": "stream",
          "name": "stdout",
          "text": [
            " * sqlite:///coursera_crime_data.db\n",
            "Done.\n"
          ]
        },
        {
          "output_type": "execute_result",
          "data": {
            "text/plain": [
              "[(25,)]"
            ],
            "text/html": [
              "<table>\n",
              "    <tr>\n",
              "        <th>COMMUNITY_AREA_NUMBER</th>\n",
              "    </tr>\n",
              "    <tr>\n",
              "        <td>25</td>\n",
              "    </tr>\n",
              "</table>"
            ]
          },
          "metadata": {},
          "execution_count": 17
        }
      ]
    },
    {
      "cell_type": "code",
      "source": [
        "# Problem 9: Use a sub-query to find the name of the community area with highest hardship index.\n",
        "%%sql\n",
        "SELECT COMMUNITY_AREA_NAME FROM ChicagoCensusData\n",
        "WHERE HARDSHIP_INDEX = (SELECT MAX(HARDSHIP_INDEX) FROM ChicagoCensusData)"
      ],
      "metadata": {
        "colab": {
          "base_uri": "https://localhost:8080/",
          "height": 96
        },
        "id": "umRpzF7AAkb-",
        "outputId": "145fc430-f20d-41ed-9eba-100cd1a4bcf7"
      },
      "execution_count": null,
      "outputs": [
        {
          "output_type": "stream",
          "name": "stdout",
          "text": [
            " * sqlite:///coursera_crime_data.db\n",
            "Done.\n"
          ]
        },
        {
          "output_type": "execute_result",
          "data": {
            "text/plain": [
              "[('Riverdale',)]"
            ],
            "text/html": [
              "<table>\n",
              "    <tr>\n",
              "        <th>COMMUNITY_AREA_NAME</th>\n",
              "    </tr>\n",
              "    <tr>\n",
              "        <td>Riverdale</td>\n",
              "    </tr>\n",
              "</table>"
            ]
          },
          "metadata": {},
          "execution_count": 19
        }
      ]
    },
    {
      "cell_type": "code",
      "source": [
        "# Problem 10: Use a sub-query to determine the Community Area Name with most number of crimes?\n",
        "%%sql\n",
        "SELECT COMMUNITY_AREA_NAME FROM ChicagoCensusData WHERE COMMUNITY_AREA_NUMBER IN\n",
        "(SELECT COMMUNITY_AREA_NUMBER FROM ChicagoCrimeData\n",
        "GROUP BY COMMUNITY_AREA_NUMBER ORDER BY COUNT(*) DESC LIMIT 1)"
      ],
      "metadata": {
        "colab": {
          "base_uri": "https://localhost:8080/",
          "height": 96
        },
        "id": "XkFkbSNVA5F7",
        "outputId": "26057137-9eba-4f88-ae96-8b6e9c3643b8"
      },
      "execution_count": null,
      "outputs": [
        {
          "output_type": "stream",
          "name": "stdout",
          "text": [
            " * sqlite:///coursera_crime_data.db\n",
            "Done.\n"
          ]
        },
        {
          "output_type": "execute_result",
          "data": {
            "text/plain": [
              "[('Austin',)]"
            ],
            "text/html": [
              "<table>\n",
              "    <tr>\n",
              "        <th>COMMUNITY_AREA_NAME</th>\n",
              "    </tr>\n",
              "    <tr>\n",
              "        <td>Austin</td>\n",
              "    </tr>\n",
              "</table>"
            ]
          },
          "metadata": {},
          "execution_count": 21
        }
      ]
    },
    {
      "cell_type": "code",
      "source": [],
      "metadata": {
        "id": "Q1b5RjavBGjl"
      },
      "execution_count": null,
      "outputs": []
    }
  ]
}